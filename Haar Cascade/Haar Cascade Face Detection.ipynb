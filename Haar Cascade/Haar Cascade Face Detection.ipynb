{
 "cells": [
  {
   "cell_type": "code",
   "execution_count": 2,
   "id": "a8e05e59",
   "metadata": {},
   "outputs": [],
   "source": [
    "import cv2 as cv\n",
    "import matplotlib as plt"
   ]
  },
  {
   "cell_type": "code",
   "execution_count": 38,
   "id": "1c954a59",
   "metadata": {},
   "outputs": [
    {
     "data": {
      "text/plain": [
       "-1"
      ]
     },
     "execution_count": 38,
     "metadata": {},
     "output_type": "execute_result"
    }
   ],
   "source": [
    "img = cv.imread('image2.JPG')\n",
    "cv.imshow('image',img)\n",
    "cv.waitKey(0)"
   ]
  },
  {
   "cell_type": "code",
   "execution_count": 39,
   "id": "cff87726",
   "metadata": {
    "scrolled": true
   },
   "outputs": [],
   "source": [
    "gray = cv.cvtColor(img,cv.COLOR_BGR2GRAY)\n",
    "haar = cv.CascadeClassifier('haarcascade_frontalface_default.xml')\n",
    "faces = haar.detectMultiScale(gray, scaleFactor=1.2, minNeighbors=5)"
   ]
  },
  {
   "cell_type": "code",
   "execution_count": 42,
   "id": "a7d2229e",
   "metadata": {},
   "outputs": [
    {
     "name": "stdout",
     "output_type": "stream",
     "text": [
      "Number Of detected Faces: 8\n"
     ]
    }
   ],
   "source": [
    "for (x, y, w, h) in faces:\n",
    "    cv.rectangle(img , (x, y), (x+w, y+h), (0, 255, 0), thickness= 2)\n",
    "    \n",
    "cv.imshow('Detected Faces', img)\n",
    "cv.waitKey(0)\n",
    "print('Number Of detected Faces:',len(faces))"
   ]
  },
  {
   "cell_type": "code",
   "execution_count": null,
   "id": "58c8ad45",
   "metadata": {},
   "outputs": [],
   "source": []
  }
 ],
 "metadata": {
  "kernelspec": {
   "display_name": "Python 3 (ipykernel)",
   "language": "python",
   "name": "python3"
  },
  "language_info": {
   "codemirror_mode": {
    "name": "ipython",
    "version": 3
   },
   "file_extension": ".py",
   "mimetype": "text/x-python",
   "name": "python",
   "nbconvert_exporter": "python",
   "pygments_lexer": "ipython3",
   "version": "3.9.12"
  }
 },
 "nbformat": 4,
 "nbformat_minor": 5
}
