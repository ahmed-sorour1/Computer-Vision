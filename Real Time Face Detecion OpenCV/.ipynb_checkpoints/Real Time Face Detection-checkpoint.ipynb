{
 "cells": [
  {
   "cell_type": "code",
   "execution_count": 1,
   "id": "9da348de",
   "metadata": {},
   "outputs": [],
   "source": [
    "import cv2 as cv"
   ]
  },
  {
   "cell_type": "code",
   "execution_count": 6,
   "id": "d01b386c",
   "metadata": {},
   "outputs": [],
   "source": [
    "video = cv.VideoCapture(0)\n",
    "counter = 0\n",
    "haar = cv.CascadeClassifier('haarcascade_frontalface_default.xml')\n",
    "while True:\n",
    "    isTrue, img = video.read()\n",
    "    if isTrue:\n",
    "        face_detect = haar.detectMultiScale(img, scaleFactor=1.2, minNeighbors=5)\n",
    "        for (x,y,w,h) in face_detect:\n",
    "            cv.rectangle(img,(x,y),(x+w,y+h),(0,255,0),3)\n",
    "        cv.imshow(\"Real Time Detection\",img)    \n",
    "        if cv.waitKey(20) & 0xFF == ord('d'):\n",
    "            break\n",
    "    else:\n",
    "        break\n",
    "\n",
    "video.release()   \n",
    "cv.destroyAllWindows()"
   ]
  }
 ],
 "metadata": {
  "kernelspec": {
   "display_name": "Python 3 (ipykernel)",
   "language": "python",
   "name": "python3"
  },
  "language_info": {
   "codemirror_mode": {
    "name": "ipython",
    "version": 3
   },
   "file_extension": ".py",
   "mimetype": "text/x-python",
   "name": "python",
   "nbconvert_exporter": "python",
   "pygments_lexer": "ipython3",
   "version": "3.9.12"
  }
 },
 "nbformat": 4,
 "nbformat_minor": 5
}
